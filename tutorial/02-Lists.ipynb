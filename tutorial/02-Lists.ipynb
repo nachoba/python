{
 "cells": [
  {
   "cell_type": "markdown",
   "metadata": {},
   "source": [
    "# Lists and Tuples"
   ]
  },
  {
   "cell_type": "markdown",
   "metadata": {},
   "source": [
    "Apart from strings, Python has two other sequence structures: *tuples* and *lists*. These contain zero or more elements, and unlike strings, the elements can be of different types. The difference between them is that Tuples are *immutable*, when you assign elements to a tuple, they can't be changed. Lists, on the other hand, are *mutable*, meaning you can insert and delete elements."
   ]
  },
  {
   "cell_type": "code",
   "execution_count": 3,
   "metadata": {},
   "outputs": [],
   "source": [
    "# Lists can be created with [] or list()\n",
    "empty_list = []\n",
    "weekdays   = ['Lunes', 'Martes', 'Miercoles', 'Jueves', 'Viernes']\n",
    "other_list = list()"
   ]
  },
  {
   "cell_type": "markdown",
   "metadata": {},
   "source": [
    "If you only want to keep track of unique values and don't care about order, a *set* might be a better choice than a *list*."
   ]
  },
  {
   "cell_type": "markdown",
   "metadata": {},
   "source": [
    "## Convert Other Data Types to Lists with list()\n",
    "Python's `list()` function, converts other data types to lists."
   ]
  },
  {
   "cell_type": "code",
   "execution_count": 4,
   "metadata": {},
   "outputs": [
    {
     "name": "stdout",
     "output_type": "stream",
     "text": [
      "['c', 'a', 't', 's']\n"
     ]
    }
   ],
   "source": [
    "some_cats = list('cats')\n",
    "print(some_cats)"
   ]
  },
  {
   "cell_type": "markdown",
   "metadata": {},
   "source": [
    "The following example, converts a *tuple* to a *list*:"
   ]
  },
  {
   "cell_type": "code",
   "execution_count": 5,
   "metadata": {},
   "outputs": [
    {
     "name": "stdout",
     "output_type": "stream",
     "text": [
      "['ready', 'set', 'go']\n"
     ]
    }
   ],
   "source": [
    "a_tuple = ('ready', 'set', 'go')\n",
    "print(list(a_tuple))"
   ]
  },
  {
   "cell_type": "markdown",
   "metadata": {},
   "source": [
    "You can split a list with `split()`"
   ]
  },
  {
   "cell_type": "code",
   "execution_count": 6,
   "metadata": {},
   "outputs": [
    {
     "name": "stdout",
     "output_type": "stream",
     "text": [
      "['8', '11', '1971']\n"
     ]
    }
   ],
   "source": [
    "birthday = '8/11/1971'\n",
    "print(birthday.split('/'))"
   ]
  },
  {
   "cell_type": "markdown",
   "metadata": {},
   "source": [
    "## Get and Item by Using `[ offset ]`\n",
    "You can extract a single value from a list by specifying its offset. The offset has to be a valid one for the list -a position you have assigned a value. If you specify an offset before the beginning or after the end, you'll get and exception (error)."
   ]
  },
  {
   "cell_type": "code",
   "execution_count": 7,
   "metadata": {},
   "outputs": [
    {
     "name": "stdout",
     "output_type": "stream",
     "text": [
      "Groucho\n",
      "Chico\n",
      "Harpo\n"
     ]
    }
   ],
   "source": [
    "marxes = ['Groucho', 'Chico', 'Harpo']\n",
    "print(marxes[0])\n",
    "print(marxes[1])\n",
    "print(marxes[2])"
   ]
  },
  {
   "cell_type": "markdown",
   "metadata": {},
   "source": [
    "Negative indexes count backwards from the end:"
   ]
  },
  {
   "cell_type": "code",
   "execution_count": 8,
   "metadata": {},
   "outputs": [
    {
     "name": "stdout",
     "output_type": "stream",
     "text": [
      "Harpo\n",
      "Chico\n",
      "Groucho\n"
     ]
    }
   ],
   "source": [
    "print(marxes[-1])\n",
    "print(marxes[-2])\n",
    "print(marxes[-3])"
   ]
  },
  {
   "cell_type": "markdown",
   "metadata": {},
   "source": [
    "## Lists of Lists\n",
    "Lists can contain elements of different types, including other lists:"
   ]
  },
  {
   "cell_type": "code",
   "execution_count": 9,
   "metadata": {},
   "outputs": [
    {
     "name": "stdout",
     "output_type": "stream",
     "text": [
      "[['gorrion', 'canario'], ['averaptux', 'pokeave'], 'Pinguino', [3, 'Frenchies', 2, 'Palomitas']]\n"
     ]
    }
   ],
   "source": [
    "small_birds   = ['gorrion', 'canario']\n",
    "extinct_birds = ['averaptux', 'pokeave']\n",
    "carol_birds   = [3, 'Frenchies', 2, 'Palomitas']\n",
    "all_birds     = [small_birds, extinct_birds, 'Pinguino', carol_birds]\n",
    "print(all_birds)"
   ]
  },
  {
   "cell_type": "code",
   "execution_count": 10,
   "metadata": {},
   "outputs": [
    {
     "data": {
      "text/plain": [
       "['gorrion', 'canario']"
      ]
     },
     "execution_count": 10,
     "metadata": {},
     "output_type": "execute_result"
    }
   ],
   "source": [
    "# Let's look at the first item in this list\n",
    "all_birds[0]"
   ]
  },
  {
   "cell_type": "code",
   "execution_count": 11,
   "metadata": {},
   "outputs": [
    {
     "data": {
      "text/plain": [
       "['averaptux', 'pokeave']"
      ]
     },
     "execution_count": 11,
     "metadata": {},
     "output_type": "execute_result"
    }
   ],
   "source": [
    "# Let's look at the second item in this list\n",
    "all_birds[1]"
   ]
  },
  {
   "cell_type": "code",
   "execution_count": 12,
   "metadata": {},
   "outputs": [
    {
     "data": {
      "text/plain": [
       "'gorrion'"
      ]
     },
     "execution_count": 12,
     "metadata": {},
     "output_type": "execute_result"
    }
   ],
   "source": [
    "# If we want the first item of the first list, we can extract it by specifying two indexes:\n",
    "all_birds[0][0]"
   ]
  },
  {
   "cell_type": "code",
   "execution_count": 13,
   "metadata": {},
   "outputs": [
    {
     "data": {
      "text/plain": [
       "'averaptux'"
      ]
     },
     "execution_count": 13,
     "metadata": {},
     "output_type": "execute_result"
    }
   ],
   "source": [
    "# Similarly, if we want the first element of the second list:\n",
    "all_birds[1][0]"
   ]
  },
  {
   "cell_type": "markdown",
   "metadata": {},
   "source": [
    "## Change an Item by `[ offset ]`\n",
    "Just as you can get the value of a list item by its offset, you can change it. Again, the list offset needs to be a valid one. You **cannot** change a character in a string in this way, because strings are immutable. But remeber that *lists* are mutable."
   ]
  },
  {
   "cell_type": "code",
   "execution_count": 14,
   "metadata": {},
   "outputs": [
    {
     "name": "stdout",
     "output_type": "stream",
     "text": [
      "['Groucho', 'Chico', 'Harpo']\n",
      "['Groucho', 'Chico', 'Wanda']\n"
     ]
    }
   ],
   "source": [
    "print(marxes)\n",
    "marxes[2] = 'Wanda'\n",
    "print(marxes)"
   ]
  },
  {
   "cell_type": "markdown",
   "metadata": {},
   "source": [
    "## Get a Slice to Extract Items by Offset Range\n",
    "You can extract a subsequence of a list by using a *slice*"
   ]
  },
  {
   "cell_type": "code",
   "execution_count": 15,
   "metadata": {},
   "outputs": [
    {
     "name": "stdout",
     "output_type": "stream",
     "text": [
      "['Groucho', 'Chico', 'Wanda']\n",
      "['Groucho', 'Chico']\n"
     ]
    }
   ],
   "source": [
    "print(marxes)\n",
    "print(marxes[0:2])"
   ]
  }
 ],
 "metadata": {
  "kernelspec": {
   "display_name": "Python 3",
   "language": "python",
   "name": "python3"
  },
  "language_info": {
   "codemirror_mode": {
    "name": "ipython",
    "version": 3
   },
   "file_extension": ".py",
   "mimetype": "text/x-python",
   "name": "python",
   "nbconvert_exporter": "python",
   "pygments_lexer": "ipython3",
   "version": "3.7.1"
  }
 },
 "nbformat": 4,
 "nbformat_minor": 2
}
