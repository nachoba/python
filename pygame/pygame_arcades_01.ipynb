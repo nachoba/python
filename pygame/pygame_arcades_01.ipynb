{
 "cells": [
  {
   "cell_type": "markdown",
   "metadata": {},
   "source": [
    "# Pygame Library\n",
    "Pygame is a library that makes graphics easier to work with. It makes it simple to:\n",
    "* Draw graphic shapes\n",
    "* Display bitmapped images\n",
    "* Animate\n",
    "* Interact with the keyboard, mouse, and gamepad\n",
    "* Play sound\n",
    "* Detect when objects collide"
   ]
  },
  {
   "cell_type": "code",
   "execution_count": 1,
   "metadata": {},
   "outputs": [
    {
     "name": "stdout",
     "output_type": "stream",
     "text": [
      "pygame 1.9.4\n",
      "Hello from the pygame community. https://www.pygame.org/contribute.html\n"
     ]
    },
    {
     "data": {
      "text/plain": [
       "(6, 0)"
      ]
     },
     "execution_count": 1,
     "metadata": {},
     "output_type": "execute_result"
    }
   ],
   "source": [
    "# The first code a Pygame program needs to do is load and initialize\n",
    "# the Pygame library.\n",
    "import pygame\n",
    "pygame.init()"
   ]
  },
  {
   "cell_type": "markdown",
   "metadata": {},
   "source": [
    "### Colors\n",
    "We will create variables that define our program's colors. Colors are defined in a list of three colors:\n",
    "* red\n",
    "* green\n",
    "* blue\n",
    "\n",
    "Each element of the RGB triad is a number ranging from 0 to 255. Zero means none of the color, and 255 tells the monitor to display as much of the color possible.\n",
    "\n",
    "The colors combine in an additive way, so if all three colors are specified, the color on the monitor appears white."
   ]
  },
  {
   "cell_type": "code",
   "execution_count": 2,
   "metadata": {},
   "outputs": [],
   "source": [
    "# Define some colors using tuples\n",
    "BLACK = (  0,   0,   0)\n",
    "WHITE = (255, 255, 255)\n",
    "GREEN = (  0, 355,   0)\n",
    "RED   = (255,   0,   0)"
   ]
  },
  {
   "cell_type": "markdown",
   "metadata": {},
   "source": [
    "### Open a Window\n",
    "The code to open a window is not complex:"
   ]
  },
  {
   "cell_type": "code",
   "execution_count": 3,
   "metadata": {},
   "outputs": [],
   "source": [
    "size   = (700, 500)\n",
    "screen = pygame.display.set_mode(size)"
   ]
  },
  {
   "cell_type": "markdown",
   "metadata": {},
   "source": [
    "Whe `set_mode()` and not `open_window()`? The reason is that this command can actually do a lot more than open a window. It can also create games that run in a full-screen mode. This removes the start menu, title bars, and gives the game control of everything on the screen.\n",
    "\n",
    "Now we will set the title of the window (which is shown in the title bar)"
   ]
  },
  {
   "cell_type": "code",
   "execution_count": 4,
   "metadata": {},
   "outputs": [],
   "source": [
    "pygame.display.set_caption(\"Professor Craven's Cool Game\")"
   ]
  }
 ],
 "metadata": {
  "kernelspec": {
   "display_name": "Python 3",
   "language": "python",
   "name": "python3"
  },
  "language_info": {
   "codemirror_mode": {
    "name": "ipython",
    "version": 3
   },
   "file_extension": ".py",
   "mimetype": "text/x-python",
   "name": "python",
   "nbconvert_exporter": "python",
   "pygments_lexer": "ipython3",
   "version": "3.7.1"
  }
 },
 "nbformat": 4,
 "nbformat_minor": 2
}
